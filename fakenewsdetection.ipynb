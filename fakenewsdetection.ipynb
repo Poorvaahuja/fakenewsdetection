{
 "cells": [
  {
   "cell_type": "code",
   "execution_count": 1,
   "id": "72f688dd",
   "metadata": {
    "execution": {
     "iopub.execute_input": "2023-12-26T17:59:56.142495Z",
     "iopub.status.busy": "2023-12-26T17:59:56.142066Z",
     "iopub.status.idle": "2023-12-26T17:59:58.537323Z",
     "shell.execute_reply": "2023-12-26T17:59:58.536467Z"
    },
    "jupyter": {
     "source_hidden": true
    },
    "papermill": {
     "duration": 2.409241,
     "end_time": "2023-12-26T17:59:58.539737",
     "exception": false,
     "start_time": "2023-12-26T17:59:56.130496",
     "status": "completed"
    },
    "tags": []
   },
   "outputs": [
    {
     "name": "stderr",
     "output_type": "stream",
     "text": [
      "/opt/conda/lib/python3.10/site-packages/scipy/__init__.py:146: UserWarning: A NumPy version >=1.16.5 and <1.23.0 is required for this version of SciPy (detected version 1.24.3\n",
      "  warnings.warn(f\"A NumPy version >={np_minversion} and <{np_maxversion}\"\n"
     ]
    }
   ],
   "source": [
    "import numpy as np\n",
    "import pandas as pd\n",
    "import re\n",
    "from nltk.corpus import stopwords\n",
    "from nltk.stem.porter import PorterStemmer\n",
    "from sklearn.feature_extraction.text import TfidfVectorizer\n",
    "from sklearn.model_selection import train_test_split\n",
    "from sklearn.linear_model import LogisticRegression\n",
    "from sklearn.metrics import accuracy_score"
   ]
  },
  {
   "cell_type": "code",
   "execution_count": 2,
   "id": "862a18b4",
   "metadata": {
    "execution": {
     "iopub.execute_input": "2023-12-26T17:59:58.560583Z",
     "iopub.status.busy": "2023-12-26T17:59:58.560198Z",
     "iopub.status.idle": "2023-12-26T17:59:58.657359Z",
     "shell.execute_reply": "2023-12-26T17:59:58.656290Z"
    },
    "papermill": {
     "duration": 0.109734,
     "end_time": "2023-12-26T17:59:58.659568",
     "exception": false,
     "start_time": "2023-12-26T17:59:58.549834",
     "status": "completed"
    },
    "tags": []
   },
   "outputs": [
    {
     "name": "stdout",
     "output_type": "stream",
     "text": [
      "[nltk_data] Downloading package stopwords to /usr/share/nltk_data...\n",
      "[nltk_data]   Package stopwords is already up-to-date!\n"
     ]
    },
    {
     "data": {
      "text/plain": [
       "True"
      ]
     },
     "execution_count": 2,
     "metadata": {},
     "output_type": "execute_result"
    }
   ],
   "source": [
    "import nltk\n",
    "nltk.download('stopwords')"
   ]
  },
  {
   "cell_type": "code",
   "execution_count": 3,
   "id": "8baf39f0",
   "metadata": {
    "execution": {
     "iopub.execute_input": "2023-12-26T17:59:58.680634Z",
     "iopub.status.busy": "2023-12-26T17:59:58.679822Z",
     "iopub.status.idle": "2023-12-26T17:59:58.688609Z",
     "shell.execute_reply": "2023-12-26T17:59:58.687788Z"
    },
    "papermill": {
     "duration": 0.020714,
     "end_time": "2023-12-26T17:59:58.690365",
     "exception": false,
     "start_time": "2023-12-26T17:59:58.669651",
     "status": "completed"
    },
    "tags": []
   },
   "outputs": [
    {
     "name": "stdout",
     "output_type": "stream",
     "text": [
      "['i', 'me', 'my', 'myself', 'we', 'our', 'ours', 'ourselves', 'you', \"you're\", \"you've\", \"you'll\", \"you'd\", 'your', 'yours', 'yourself', 'yourselves', 'he', 'him', 'his', 'himself', 'she', \"she's\", 'her', 'hers', 'herself', 'it', \"it's\", 'its', 'itself', 'they', 'them', 'their', 'theirs', 'themselves', 'what', 'which', 'who', 'whom', 'this', 'that', \"that'll\", 'these', 'those', 'am', 'is', 'are', 'was', 'were', 'be', 'been', 'being', 'have', 'has', 'had', 'having', 'do', 'does', 'did', 'doing', 'a', 'an', 'the', 'and', 'but', 'if', 'or', 'because', 'as', 'until', 'while', 'of', 'at', 'by', 'for', 'with', 'about', 'against', 'between', 'into', 'through', 'during', 'before', 'after', 'above', 'below', 'to', 'from', 'up', 'down', 'in', 'out', 'on', 'off', 'over', 'under', 'again', 'further', 'then', 'once', 'here', 'there', 'when', 'where', 'why', 'how', 'all', 'any', 'both', 'each', 'few', 'more', 'most', 'other', 'some', 'such', 'no', 'nor', 'not', 'only', 'own', 'same', 'so', 'than', 'too', 'very', 's', 't', 'can', 'will', 'just', 'don', \"don't\", 'should', \"should've\", 'now', 'd', 'll', 'm', 'o', 're', 've', 'y', 'ain', 'aren', \"aren't\", 'couldn', \"couldn't\", 'didn', \"didn't\", 'doesn', \"doesn't\", 'hadn', \"hadn't\", 'hasn', \"hasn't\", 'haven', \"haven't\", 'isn', \"isn't\", 'ma', 'mightn', \"mightn't\", 'mustn', \"mustn't\", 'needn', \"needn't\", 'shan', \"shan't\", 'shouldn', \"shouldn't\", 'wasn', \"wasn't\", 'weren', \"weren't\", 'won', \"won't\", 'wouldn', \"wouldn't\"]\n"
     ]
    }
   ],
   "source": [
    "print(stopwords.words('english'))"
   ]
  },
  {
   "cell_type": "code",
   "execution_count": 4,
   "id": "c415a894",
   "metadata": {
    "execution": {
     "iopub.execute_input": "2023-12-26T17:59:58.710302Z",
     "iopub.status.busy": "2023-12-26T17:59:58.710059Z",
     "iopub.status.idle": "2023-12-26T18:00:01.142270Z",
     "shell.execute_reply": "2023-12-26T18:00:01.141402Z"
    },
    "papermill": {
     "duration": 2.444973,
     "end_time": "2023-12-26T18:00:01.144720",
     "exception": false,
     "start_time": "2023-12-26T17:59:58.699747",
     "status": "completed"
    },
    "tags": []
   },
   "outputs": [],
   "source": [
    "news_dataset = pd.read_csv('/kaggle/input/fake-news/train.csv')"
   ]
  },
  {
   "cell_type": "code",
   "execution_count": 5,
   "id": "fdf75be6",
   "metadata": {
    "execution": {
     "iopub.execute_input": "2023-12-26T18:00:01.166265Z",
     "iopub.status.busy": "2023-12-26T18:00:01.165959Z",
     "iopub.status.idle": "2023-12-26T18:00:01.171588Z",
     "shell.execute_reply": "2023-12-26T18:00:01.170734Z"
    },
    "papermill": {
     "duration": 0.018209,
     "end_time": "2023-12-26T18:00:01.173473",
     "exception": false,
     "start_time": "2023-12-26T18:00:01.155264",
     "status": "completed"
    },
    "tags": []
   },
   "outputs": [
    {
     "data": {
      "text/plain": [
       "(20800, 5)"
      ]
     },
     "execution_count": 5,
     "metadata": {},
     "output_type": "execute_result"
    }
   ],
   "source": [
    "news_dataset.shape"
   ]
  },
  {
   "cell_type": "code",
   "execution_count": 6,
   "id": "3d5f2cd2",
   "metadata": {
    "execution": {
     "iopub.execute_input": "2023-12-26T18:00:01.193366Z",
     "iopub.status.busy": "2023-12-26T18:00:01.193120Z",
     "iopub.status.idle": "2023-12-26T18:00:01.210459Z",
     "shell.execute_reply": "2023-12-26T18:00:01.209630Z"
    },
    "papermill": {
     "duration": 0.029465,
     "end_time": "2023-12-26T18:00:01.212387",
     "exception": false,
     "start_time": "2023-12-26T18:00:01.182922",
     "status": "completed"
    },
    "tags": []
   },
   "outputs": [
    {
     "data": {
      "text/html": [
       "<div>\n",
       "<style scoped>\n",
       "    .dataframe tbody tr th:only-of-type {\n",
       "        vertical-align: middle;\n",
       "    }\n",
       "\n",
       "    .dataframe tbody tr th {\n",
       "        vertical-align: top;\n",
       "    }\n",
       "\n",
       "    .dataframe thead th {\n",
       "        text-align: right;\n",
       "    }\n",
       "</style>\n",
       "<table border=\"1\" class=\"dataframe\">\n",
       "  <thead>\n",
       "    <tr style=\"text-align: right;\">\n",
       "      <th></th>\n",
       "      <th>id</th>\n",
       "      <th>title</th>\n",
       "      <th>author</th>\n",
       "      <th>text</th>\n",
       "      <th>label</th>\n",
       "    </tr>\n",
       "  </thead>\n",
       "  <tbody>\n",
       "    <tr>\n",
       "      <th>0</th>\n",
       "      <td>0</td>\n",
       "      <td>House Dem Aide: We Didn’t Even See Comey’s Let...</td>\n",
       "      <td>Darrell Lucus</td>\n",
       "      <td>House Dem Aide: We Didn’t Even See Comey’s Let...</td>\n",
       "      <td>1</td>\n",
       "    </tr>\n",
       "    <tr>\n",
       "      <th>1</th>\n",
       "      <td>1</td>\n",
       "      <td>FLYNN: Hillary Clinton, Big Woman on Campus - ...</td>\n",
       "      <td>Daniel J. Flynn</td>\n",
       "      <td>Ever get the feeling your life circles the rou...</td>\n",
       "      <td>0</td>\n",
       "    </tr>\n",
       "    <tr>\n",
       "      <th>2</th>\n",
       "      <td>2</td>\n",
       "      <td>Why the Truth Might Get You Fired</td>\n",
       "      <td>Consortiumnews.com</td>\n",
       "      <td>Why the Truth Might Get You Fired October 29, ...</td>\n",
       "      <td>1</td>\n",
       "    </tr>\n",
       "    <tr>\n",
       "      <th>3</th>\n",
       "      <td>3</td>\n",
       "      <td>15 Civilians Killed In Single US Airstrike Hav...</td>\n",
       "      <td>Jessica Purkiss</td>\n",
       "      <td>Videos 15 Civilians Killed In Single US Airstr...</td>\n",
       "      <td>1</td>\n",
       "    </tr>\n",
       "    <tr>\n",
       "      <th>4</th>\n",
       "      <td>4</td>\n",
       "      <td>Iranian woman jailed for fictional unpublished...</td>\n",
       "      <td>Howard Portnoy</td>\n",
       "      <td>Print \\nAn Iranian woman has been sentenced to...</td>\n",
       "      <td>1</td>\n",
       "    </tr>\n",
       "  </tbody>\n",
       "</table>\n",
       "</div>"
      ],
      "text/plain": [
       "   id                                              title              author  \\\n",
       "0   0  House Dem Aide: We Didn’t Even See Comey’s Let...       Darrell Lucus   \n",
       "1   1  FLYNN: Hillary Clinton, Big Woman on Campus - ...     Daniel J. Flynn   \n",
       "2   2                  Why the Truth Might Get You Fired  Consortiumnews.com   \n",
       "3   3  15 Civilians Killed In Single US Airstrike Hav...     Jessica Purkiss   \n",
       "4   4  Iranian woman jailed for fictional unpublished...      Howard Portnoy   \n",
       "\n",
       "                                                text  label  \n",
       "0  House Dem Aide: We Didn’t Even See Comey’s Let...      1  \n",
       "1  Ever get the feeling your life circles the rou...      0  \n",
       "2  Why the Truth Might Get You Fired October 29, ...      1  \n",
       "3  Videos 15 Civilians Killed In Single US Airstr...      1  \n",
       "4  Print \\nAn Iranian woman has been sentenced to...      1  "
      ]
     },
     "execution_count": 6,
     "metadata": {},
     "output_type": "execute_result"
    }
   ],
   "source": [
    "news_dataset.head()"
   ]
  },
  {
   "cell_type": "code",
   "execution_count": 7,
   "id": "5a2f5f08",
   "metadata": {
    "execution": {
     "iopub.execute_input": "2023-12-26T18:00:01.232955Z",
     "iopub.status.busy": "2023-12-26T18:00:01.232698Z",
     "iopub.status.idle": "2023-12-26T18:00:01.245626Z",
     "shell.execute_reply": "2023-12-26T18:00:01.244770Z"
    },
    "papermill": {
     "duration": 0.025136,
     "end_time": "2023-12-26T18:00:01.247478",
     "exception": false,
     "start_time": "2023-12-26T18:00:01.222342",
     "status": "completed"
    },
    "tags": []
   },
   "outputs": [
    {
     "data": {
      "text/plain": [
       "id           0\n",
       "title      558\n",
       "author    1957\n",
       "text        39\n",
       "label        0\n",
       "dtype: int64"
      ]
     },
     "execution_count": 7,
     "metadata": {},
     "output_type": "execute_result"
    }
   ],
   "source": [
    "news_dataset.isnull().sum()"
   ]
  },
  {
   "cell_type": "code",
   "execution_count": 8,
   "id": "3d987111",
   "metadata": {
    "execution": {
     "iopub.execute_input": "2023-12-26T18:00:01.268146Z",
     "iopub.status.busy": "2023-12-26T18:00:01.267869Z",
     "iopub.status.idle": "2023-12-26T18:00:01.280643Z",
     "shell.execute_reply": "2023-12-26T18:00:01.280010Z"
    },
    "papermill": {
     "duration": 0.025183,
     "end_time": "2023-12-26T18:00:01.282449",
     "exception": false,
     "start_time": "2023-12-26T18:00:01.257266",
     "status": "completed"
    },
    "tags": []
   },
   "outputs": [],
   "source": [
    "#replace null values with empty string\n",
    "news_dataset = news_dataset.fillna('')"
   ]
  },
  {
   "cell_type": "code",
   "execution_count": 9,
   "id": "02e142c4",
   "metadata": {
    "execution": {
     "iopub.execute_input": "2023-12-26T18:00:01.303130Z",
     "iopub.status.busy": "2023-12-26T18:00:01.302850Z",
     "iopub.status.idle": "2023-12-26T18:00:01.312910Z",
     "shell.execute_reply": "2023-12-26T18:00:01.312070Z"
    },
    "papermill": {
     "duration": 0.022651,
     "end_time": "2023-12-26T18:00:01.314804",
     "exception": false,
     "start_time": "2023-12-26T18:00:01.292153",
     "status": "completed"
    },
    "tags": []
   },
   "outputs": [],
   "source": [
    "#merging the author name and news title\n",
    "news_dataset['content'] = news_dataset['author']+''+news_dataset['title']"
   ]
  },
  {
   "cell_type": "code",
   "execution_count": 10,
   "id": "41123247",
   "metadata": {
    "execution": {
     "iopub.execute_input": "2023-12-26T18:00:01.335585Z",
     "iopub.status.busy": "2023-12-26T18:00:01.335322Z",
     "iopub.status.idle": "2023-12-26T18:00:01.341142Z",
     "shell.execute_reply": "2023-12-26T18:00:01.340043Z"
    },
    "papermill": {
     "duration": 0.01826,
     "end_time": "2023-12-26T18:00:01.343169",
     "exception": false,
     "start_time": "2023-12-26T18:00:01.324909",
     "status": "completed"
    },
    "tags": []
   },
   "outputs": [
    {
     "name": "stdout",
     "output_type": "stream",
     "text": [
      "0        Darrell LucusHouse Dem Aide: We Didn’t Even Se...\n",
      "1        Daniel J. FlynnFLYNN: Hillary Clinton, Big Wom...\n",
      "2        Consortiumnews.comWhy the Truth Might Get You ...\n",
      "3        Jessica Purkiss15 Civilians Killed In Single U...\n",
      "4        Howard PortnoyIranian woman jailed for fiction...\n",
      "                               ...                        \n",
      "20795    Jerome HudsonRapper T.I.: Trump a ’Poster Chil...\n",
      "20796    Benjamin HoffmanN.F.L. Playoffs: Schedule, Mat...\n",
      "20797    Michael J. de la Merced and Rachel AbramsMacy’...\n",
      "20798    Alex AnsaryNATO, Russia To Hold Parallel Exerc...\n",
      "20799               David SwansonWhat Keeps the F-35 Alive\n",
      "Name: content, Length: 20800, dtype: object\n"
     ]
    }
   ],
   "source": [
    "print(news_dataset['content'])"
   ]
  },
  {
   "cell_type": "code",
   "execution_count": 11,
   "id": "cc411d95",
   "metadata": {
    "execution": {
     "iopub.execute_input": "2023-12-26T18:00:01.363758Z",
     "iopub.status.busy": "2023-12-26T18:00:01.363505Z",
     "iopub.status.idle": "2023-12-26T18:00:01.377103Z",
     "shell.execute_reply": "2023-12-26T18:00:01.376416Z"
    },
    "papermill": {
     "duration": 0.02594,
     "end_time": "2023-12-26T18:00:01.378927",
     "exception": false,
     "start_time": "2023-12-26T18:00:01.352987",
     "status": "completed"
    },
    "tags": []
   },
   "outputs": [],
   "source": [
    "#separating the data and label\n",
    "X = news_dataset.drop(columns='label', axis = 1)\n",
    "Y = news_dataset['label']"
   ]
  },
  {
   "cell_type": "code",
   "execution_count": 12,
   "id": "5bce1859",
   "metadata": {
    "execution": {
     "iopub.execute_input": "2023-12-26T18:00:01.400560Z",
     "iopub.status.busy": "2023-12-26T18:00:01.400080Z",
     "iopub.status.idle": "2023-12-26T18:00:01.408444Z",
     "shell.execute_reply": "2023-12-26T18:00:01.407611Z"
    },
    "papermill": {
     "duration": 0.021076,
     "end_time": "2023-12-26T18:00:01.410508",
     "exception": false,
     "start_time": "2023-12-26T18:00:01.389432",
     "status": "completed"
    },
    "tags": []
   },
   "outputs": [
    {
     "name": "stdout",
     "output_type": "stream",
     "text": [
      "          id                                              title  \\\n",
      "0          0  House Dem Aide: We Didn’t Even See Comey’s Let...   \n",
      "1          1  FLYNN: Hillary Clinton, Big Woman on Campus - ...   \n",
      "2          2                  Why the Truth Might Get You Fired   \n",
      "3          3  15 Civilians Killed In Single US Airstrike Hav...   \n",
      "4          4  Iranian woman jailed for fictional unpublished...   \n",
      "...      ...                                                ...   \n",
      "20795  20795  Rapper T.I.: Trump a ’Poster Child For White S...   \n",
      "20796  20796  N.F.L. Playoffs: Schedule, Matchups and Odds -...   \n",
      "20797  20797  Macy’s Is Said to Receive Takeover Approach by...   \n",
      "20798  20798  NATO, Russia To Hold Parallel Exercises In Bal...   \n",
      "20799  20799                          What Keeps the F-35 Alive   \n",
      "\n",
      "                                          author  \\\n",
      "0                                  Darrell Lucus   \n",
      "1                                Daniel J. Flynn   \n",
      "2                             Consortiumnews.com   \n",
      "3                                Jessica Purkiss   \n",
      "4                                 Howard Portnoy   \n",
      "...                                          ...   \n",
      "20795                              Jerome Hudson   \n",
      "20796                           Benjamin Hoffman   \n",
      "20797  Michael J. de la Merced and Rachel Abrams   \n",
      "20798                                Alex Ansary   \n",
      "20799                              David Swanson   \n",
      "\n",
      "                                                    text  \\\n",
      "0      House Dem Aide: We Didn’t Even See Comey’s Let...   \n",
      "1      Ever get the feeling your life circles the rou...   \n",
      "2      Why the Truth Might Get You Fired October 29, ...   \n",
      "3      Videos 15 Civilians Killed In Single US Airstr...   \n",
      "4      Print \\nAn Iranian woman has been sentenced to...   \n",
      "...                                                  ...   \n",
      "20795  Rapper T. I. unloaded on black celebrities who...   \n",
      "20796  When the Green Bay Packers lost to the Washing...   \n",
      "20797  The Macy’s of today grew from the union of sev...   \n",
      "20798  NATO, Russia To Hold Parallel Exercises In Bal...   \n",
      "20799    David Swanson is an author, activist, journa...   \n",
      "\n",
      "                                                 content  \n",
      "0      Darrell LucusHouse Dem Aide: We Didn’t Even Se...  \n",
      "1      Daniel J. FlynnFLYNN: Hillary Clinton, Big Wom...  \n",
      "2      Consortiumnews.comWhy the Truth Might Get You ...  \n",
      "3      Jessica Purkiss15 Civilians Killed In Single U...  \n",
      "4      Howard PortnoyIranian woman jailed for fiction...  \n",
      "...                                                  ...  \n",
      "20795  Jerome HudsonRapper T.I.: Trump a ’Poster Chil...  \n",
      "20796  Benjamin HoffmanN.F.L. Playoffs: Schedule, Mat...  \n",
      "20797  Michael J. de la Merced and Rachel AbramsMacy’...  \n",
      "20798  Alex AnsaryNATO, Russia To Hold Parallel Exerc...  \n",
      "20799             David SwansonWhat Keeps the F-35 Alive  \n",
      "\n",
      "[20800 rows x 5 columns]\n",
      "0        1\n",
      "1        0\n",
      "2        1\n",
      "3        1\n",
      "4        1\n",
      "        ..\n",
      "20795    0\n",
      "20796    0\n",
      "20797    0\n",
      "20798    1\n",
      "20799    1\n",
      "Name: label, Length: 20800, dtype: int64\n"
     ]
    }
   ],
   "source": [
    "print(X)\n",
    "print(Y)"
   ]
  },
  {
   "cell_type": "code",
   "execution_count": 13,
   "id": "09cea246",
   "metadata": {
    "execution": {
     "iopub.execute_input": "2023-12-26T18:00:01.431640Z",
     "iopub.status.busy": "2023-12-26T18:00:01.431165Z",
     "iopub.status.idle": "2023-12-26T18:00:01.435112Z",
     "shell.execute_reply": "2023-12-26T18:00:01.434302Z"
    },
    "papermill": {
     "duration": 0.016467,
     "end_time": "2023-12-26T18:00:01.436986",
     "exception": false,
     "start_time": "2023-12-26T18:00:01.420519",
     "status": "completed"
    },
    "tags": []
   },
   "outputs": [],
   "source": [
    "port_stem = PorterStemmer()"
   ]
  },
  {
   "cell_type": "code",
   "execution_count": 14,
   "id": "8c756664",
   "metadata": {
    "execution": {
     "iopub.execute_input": "2023-12-26T18:00:01.457728Z",
     "iopub.status.busy": "2023-12-26T18:00:01.457492Z",
     "iopub.status.idle": "2023-12-26T18:00:01.462612Z",
     "shell.execute_reply": "2023-12-26T18:00:01.461698Z"
    },
    "papermill": {
     "duration": 0.017545,
     "end_time": "2023-12-26T18:00:01.464485",
     "exception": false,
     "start_time": "2023-12-26T18:00:01.446940",
     "status": "completed"
    },
    "tags": []
   },
   "outputs": [],
   "source": [
    "def stemming(content):\n",
    "    stemmed_content = re.sub('[^a-zA-Z]',' ',content)\n",
    "    stemmed_content = stemmed_content.lower()\n",
    "    stemmed_content = stemmed_content.split()\n",
    "    stemmed_content = [port_stem.stem(word) for word in stemmed_content if not word in stopwords.words('english')]\n",
    "    stemmed_content = ' '.join(stemmed_content)\n",
    "    return stemmed_content"
   ]
  },
  {
   "cell_type": "code",
   "execution_count": 15,
   "id": "f30b857c",
   "metadata": {
    "execution": {
     "iopub.execute_input": "2023-12-26T18:00:01.487018Z",
     "iopub.status.busy": "2023-12-26T18:00:01.486526Z",
     "iopub.status.idle": "2023-12-26T18:00:41.989804Z",
     "shell.execute_reply": "2023-12-26T18:00:41.989046Z"
    },
    "papermill": {
     "duration": 40.516443,
     "end_time": "2023-12-26T18:00:41.992100",
     "exception": false,
     "start_time": "2023-12-26T18:00:01.475657",
     "status": "completed"
    },
    "tags": []
   },
   "outputs": [],
   "source": [
    "news_dataset['content'] = news_dataset['content'].apply(stemming)"
   ]
  },
  {
   "cell_type": "code",
   "execution_count": 16,
   "id": "22201366",
   "metadata": {
    "execution": {
     "iopub.execute_input": "2023-12-26T18:00:42.014958Z",
     "iopub.status.busy": "2023-12-26T18:00:42.014661Z",
     "iopub.status.idle": "2023-12-26T18:00:42.020380Z",
     "shell.execute_reply": "2023-12-26T18:00:42.019517Z"
    },
    "papermill": {
     "duration": 0.019352,
     "end_time": "2023-12-26T18:00:42.022641",
     "exception": false,
     "start_time": "2023-12-26T18:00:42.003289",
     "status": "completed"
    },
    "tags": []
   },
   "outputs": [
    {
     "name": "stdout",
     "output_type": "stream",
     "text": [
      "0        darrel lucushous dem aid even see comey letter...\n",
      "1        daniel j flynnflynn hillari clinton big woman ...\n",
      "2                consortiumnew comwhi truth might get fire\n",
      "3        jessica purkiss civilian kill singl us airstri...\n",
      "4        howard portnoyiranian woman jail fiction unpub...\n",
      "                               ...                        \n",
      "20795    jerom hudsonrapp trump poster child white supr...\n",
      "20796    benjamin hoffmann f l playoff schedul matchup ...\n",
      "20797    michael j de la merc rachel abramsmaci said re...\n",
      "20798    alex ansarynato russia hold parallel exercis b...\n",
      "20799                        david swansonwhat keep f aliv\n",
      "Name: content, Length: 20800, dtype: object\n"
     ]
    }
   ],
   "source": [
    "print(news_dataset['content'])"
   ]
  },
  {
   "cell_type": "code",
   "execution_count": 17,
   "id": "fe5cc370",
   "metadata": {
    "execution": {
     "iopub.execute_input": "2023-12-26T18:00:42.044123Z",
     "iopub.status.busy": "2023-12-26T18:00:42.043770Z",
     "iopub.status.idle": "2023-12-26T18:00:42.049844Z",
     "shell.execute_reply": "2023-12-26T18:00:42.048994Z"
    },
    "papermill": {
     "duration": 0.018788,
     "end_time": "2023-12-26T18:00:42.051644",
     "exception": false,
     "start_time": "2023-12-26T18:00:42.032856",
     "status": "completed"
    },
    "tags": []
   },
   "outputs": [],
   "source": [
    "#separating the data and label\n",
    "X = news_dataset['content'].values\n",
    "Y = news_dataset['label'].values"
   ]
  },
  {
   "cell_type": "code",
   "execution_count": 18,
   "id": "4cb01569",
   "metadata": {
    "execution": {
     "iopub.execute_input": "2023-12-26T18:00:42.072923Z",
     "iopub.status.busy": "2023-12-26T18:00:42.072667Z",
     "iopub.status.idle": "2023-12-26T18:00:42.077220Z",
     "shell.execute_reply": "2023-12-26T18:00:42.076334Z"
    },
    "papermill": {
     "duration": 0.017593,
     "end_time": "2023-12-26T18:00:42.079292",
     "exception": false,
     "start_time": "2023-12-26T18:00:42.061699",
     "status": "completed"
    },
    "tags": []
   },
   "outputs": [
    {
     "name": "stdout",
     "output_type": "stream",
     "text": [
      "['darrel lucushous dem aid even see comey letter jason chaffetz tweet'\n",
      " 'daniel j flynnflynn hillari clinton big woman campu breitbart'\n",
      " 'consortiumnew comwhi truth might get fire' ...\n",
      " 'michael j de la merc rachel abramsmaci said receiv takeov approach hudson bay new york time'\n",
      " 'alex ansarynato russia hold parallel exercis balkan'\n",
      " 'david swansonwhat keep f aliv']\n"
     ]
    }
   ],
   "source": [
    "print(X)"
   ]
  },
  {
   "cell_type": "code",
   "execution_count": 19,
   "id": "dff444db",
   "metadata": {
    "execution": {
     "iopub.execute_input": "2023-12-26T18:00:42.100605Z",
     "iopub.status.busy": "2023-12-26T18:00:42.100340Z",
     "iopub.status.idle": "2023-12-26T18:00:42.104711Z",
     "shell.execute_reply": "2023-12-26T18:00:42.103881Z"
    },
    "papermill": {
     "duration": 0.017243,
     "end_time": "2023-12-26T18:00:42.106663",
     "exception": false,
     "start_time": "2023-12-26T18:00:42.089420",
     "status": "completed"
    },
    "tags": []
   },
   "outputs": [
    {
     "name": "stdout",
     "output_type": "stream",
     "text": [
      "[1 0 1 ... 0 1 1]\n"
     ]
    }
   ],
   "source": [
    "print(Y)"
   ]
  },
  {
   "cell_type": "code",
   "execution_count": 20,
   "id": "0abd09b0",
   "metadata": {
    "execution": {
     "iopub.execute_input": "2023-12-26T18:00:42.128843Z",
     "iopub.status.busy": "2023-12-26T18:00:42.128168Z",
     "iopub.status.idle": "2023-12-26T18:00:42.133452Z",
     "shell.execute_reply": "2023-12-26T18:00:42.132619Z"
    },
    "papermill": {
     "duration": 0.018023,
     "end_time": "2023-12-26T18:00:42.135312",
     "exception": false,
     "start_time": "2023-12-26T18:00:42.117289",
     "status": "completed"
    },
    "tags": []
   },
   "outputs": [
    {
     "data": {
      "text/plain": [
       "(20800,)"
      ]
     },
     "execution_count": 20,
     "metadata": {},
     "output_type": "execute_result"
    }
   ],
   "source": [
    "Y.shape"
   ]
  },
  {
   "cell_type": "code",
   "execution_count": 21,
   "id": "a838c675",
   "metadata": {
    "execution": {
     "iopub.execute_input": "2023-12-26T18:00:42.157300Z",
     "iopub.status.busy": "2023-12-26T18:00:42.156996Z",
     "iopub.status.idle": "2023-12-26T18:00:42.838701Z",
     "shell.execute_reply": "2023-12-26T18:00:42.837759Z"
    },
    "papermill": {
     "duration": 0.69534,
     "end_time": "2023-12-26T18:00:42.841057",
     "exception": false,
     "start_time": "2023-12-26T18:00:42.145717",
     "status": "completed"
    },
    "tags": []
   },
   "outputs": [],
   "source": [
    "#converting the textual data to numerical data\n",
    "vectorizer = TfidfVectorizer()\n",
    "vectorizer.fit(X)\n",
    "X = vectorizer.transform(X)"
   ]
  },
  {
   "cell_type": "code",
   "execution_count": 22,
   "id": "e35d2b03",
   "metadata": {
    "execution": {
     "iopub.execute_input": "2023-12-26T18:00:42.864317Z",
     "iopub.status.busy": "2023-12-26T18:00:42.863916Z",
     "iopub.status.idle": "2023-12-26T18:00:42.870539Z",
     "shell.execute_reply": "2023-12-26T18:00:42.869215Z"
    },
    "papermill": {
     "duration": 0.020694,
     "end_time": "2023-12-26T18:00:42.872914",
     "exception": false,
     "start_time": "2023-12-26T18:00:42.852220",
     "status": "completed"
    },
    "tags": []
   },
   "outputs": [
    {
     "name": "stdout",
     "output_type": "stream",
     "text": [
      "  (0, 26340)\t0.28088379401596425\n",
      "  (0, 22724)\t0.25523360180691607\n",
      "  (0, 15019)\t0.43006226759639316\n",
      "  (0, 14555)\t0.29177259684200296\n",
      "  (0, 12782)\t0.24619727512767195\n",
      "  (0, 8022)\t0.23133661742488731\n",
      "  (0, 6273)\t0.2839932825877813\n",
      "  (0, 5969)\t0.35488202138141456\n",
      "  (0, 5006)\t0.2472595823572816\n",
      "  (0, 4211)\t0.3625320323150658\n",
      "  (0, 578)\t0.2694167078545385\n",
      "  (1, 27923)\t0.36911845953845024\n",
      "  (1, 11313)\t0.24166773097712638\n",
      "  (1, 8772)\t0.5258635625386451\n",
      "  (1, 5916)\t0.31810058109638056\n",
      "  (1, 4767)\t0.23338756776626793\n",
      "  (1, 3859)\t0.45980466668763476\n",
      "  (1, 3281)\t0.18652439327549428\n",
      "  (1, 2622)\t0.3562953366945267\n",
      "  (2, 26235)\t0.3665032495181434\n",
      "  (2, 16361)\t0.43295215406038445\n",
      "  (2, 9454)\t0.30743020569262086\n",
      "  (2, 8567)\t0.3411947414020896\n",
      "  (2, 5240)\t0.40440534260277944\n",
      "  (2, 5121)\t0.5511414848555652\n",
      "  :\t:\n",
      "  (20797, 25776)\t0.08220218573989037\n",
      "  (20797, 25319)\t0.3119640221826561\n",
      "  (20797, 22086)\t0.24902354987792552\n",
      "  (20797, 20778)\t0.2729578683228216\n",
      "  (20797, 20493)\t0.249994989010826\n",
      "  (20797, 17505)\t0.08090456115716121\n",
      "  (20797, 16315)\t0.1785200594251359\n",
      "  (20797, 16217)\t0.3273246827604847\n",
      "  (20797, 14104)\t0.22761807337911874\n",
      "  (20797, 11692)\t0.2992170910232368\n",
      "  (20797, 6088)\t0.21253094503918346\n",
      "  (20797, 2257)\t0.3357782642976524\n",
      "  (20797, 1249)\t0.30722233537083343\n",
      "  (20797, 72)\t0.38829670969848273\n",
      "  (20798, 21937)\t0.2284042880065583\n",
      "  (20798, 18760)\t0.43981843518920394\n",
      "  (20798, 11434)\t0.3219420705942853\n",
      "  (20798, 8095)\t0.40266358130888547\n",
      "  (20798, 1921)\t0.43981843518920394\n",
      "  (20798, 1081)\t0.4638903157542852\n",
      "  (20798, 697)\t0.2827933658592677\n",
      "  (20799, 25148)\t0.6713314187498636\n",
      "  (20799, 13329)\t0.4138037375613909\n",
      "  (20799, 6018)\t0.345590335823275\n",
      "  (20799, 732)\t0.5085743925573473\n"
     ]
    }
   ],
   "source": [
    "print(X)"
   ]
  },
  {
   "cell_type": "markdown",
   "id": "941a9ae5",
   "metadata": {
    "papermill": {
     "duration": 0.011091,
     "end_time": "2023-12-26T18:00:42.939512",
     "exception": false,
     "start_time": "2023-12-26T18:00:42.928421",
     "status": "completed"
    },
    "tags": []
   },
   "source": [
    "**Splitting the dataset to training and test data**"
   ]
  },
  {
   "cell_type": "code",
   "execution_count": 23,
   "id": "64c241d7",
   "metadata": {
    "execution": {
     "iopub.execute_input": "2023-12-26T18:00:42.964226Z",
     "iopub.status.busy": "2023-12-26T18:00:42.963553Z",
     "iopub.status.idle": "2023-12-26T18:00:42.982397Z",
     "shell.execute_reply": "2023-12-26T18:00:42.981385Z"
    },
    "papermill": {
     "duration": 0.033565,
     "end_time": "2023-12-26T18:00:42.984380",
     "exception": false,
     "start_time": "2023-12-26T18:00:42.950815",
     "status": "completed"
    },
    "tags": []
   },
   "outputs": [],
   "source": [
    "X_train, X_test, Y_train, Y_test = train_test_split(X, Y, test_size = 0.2, stratify=Y, random_state=2)"
   ]
  },
  {
   "cell_type": "markdown",
   "id": "dc55bdd7",
   "metadata": {
    "papermill": {
     "duration": 0.010487,
     "end_time": "2023-12-26T18:00:43.005582",
     "exception": false,
     "start_time": "2023-12-26T18:00:42.995095",
     "status": "completed"
    },
    "tags": []
   },
   "source": [
    "Training the Model: Logistic Regression"
   ]
  },
  {
   "cell_type": "code",
   "execution_count": 24,
   "id": "0beb58a2",
   "metadata": {
    "execution": {
     "iopub.execute_input": "2023-12-26T18:00:43.029372Z",
     "iopub.status.busy": "2023-12-26T18:00:43.028552Z",
     "iopub.status.idle": "2023-12-26T18:00:43.032775Z",
     "shell.execute_reply": "2023-12-26T18:00:43.031901Z"
    },
    "papermill": {
     "duration": 0.018369,
     "end_time": "2023-12-26T18:00:43.034675",
     "exception": false,
     "start_time": "2023-12-26T18:00:43.016306",
     "status": "completed"
    },
    "tags": []
   },
   "outputs": [],
   "source": [
    "model = LogisticRegression()"
   ]
  },
  {
   "cell_type": "code",
   "execution_count": 25,
   "id": "aad5e337",
   "metadata": {
    "execution": {
     "iopub.execute_input": "2023-12-26T18:00:43.058192Z",
     "iopub.status.busy": "2023-12-26T18:00:43.057478Z",
     "iopub.status.idle": "2023-12-26T18:00:43.654430Z",
     "shell.execute_reply": "2023-12-26T18:00:43.652981Z"
    },
    "papermill": {
     "duration": 0.612597,
     "end_time": "2023-12-26T18:00:43.658225",
     "exception": false,
     "start_time": "2023-12-26T18:00:43.045628",
     "status": "completed"
    },
    "tags": []
   },
   "outputs": [
    {
     "data": {
      "text/html": [
       "<style>#sk-container-id-1 {color: black;background-color: white;}#sk-container-id-1 pre{padding: 0;}#sk-container-id-1 div.sk-toggleable {background-color: white;}#sk-container-id-1 label.sk-toggleable__label {cursor: pointer;display: block;width: 100%;margin-bottom: 0;padding: 0.3em;box-sizing: border-box;text-align: center;}#sk-container-id-1 label.sk-toggleable__label-arrow:before {content: \"▸\";float: left;margin-right: 0.25em;color: #696969;}#sk-container-id-1 label.sk-toggleable__label-arrow:hover:before {color: black;}#sk-container-id-1 div.sk-estimator:hover label.sk-toggleable__label-arrow:before {color: black;}#sk-container-id-1 div.sk-toggleable__content {max-height: 0;max-width: 0;overflow: hidden;text-align: left;background-color: #f0f8ff;}#sk-container-id-1 div.sk-toggleable__content pre {margin: 0.2em;color: black;border-radius: 0.25em;background-color: #f0f8ff;}#sk-container-id-1 input.sk-toggleable__control:checked~div.sk-toggleable__content {max-height: 200px;max-width: 100%;overflow: auto;}#sk-container-id-1 input.sk-toggleable__control:checked~label.sk-toggleable__label-arrow:before {content: \"▾\";}#sk-container-id-1 div.sk-estimator input.sk-toggleable__control:checked~label.sk-toggleable__label {background-color: #d4ebff;}#sk-container-id-1 div.sk-label input.sk-toggleable__control:checked~label.sk-toggleable__label {background-color: #d4ebff;}#sk-container-id-1 input.sk-hidden--visually {border: 0;clip: rect(1px 1px 1px 1px);clip: rect(1px, 1px, 1px, 1px);height: 1px;margin: -1px;overflow: hidden;padding: 0;position: absolute;width: 1px;}#sk-container-id-1 div.sk-estimator {font-family: monospace;background-color: #f0f8ff;border: 1px dotted black;border-radius: 0.25em;box-sizing: border-box;margin-bottom: 0.5em;}#sk-container-id-1 div.sk-estimator:hover {background-color: #d4ebff;}#sk-container-id-1 div.sk-parallel-item::after {content: \"\";width: 100%;border-bottom: 1px solid gray;flex-grow: 1;}#sk-container-id-1 div.sk-label:hover label.sk-toggleable__label {background-color: #d4ebff;}#sk-container-id-1 div.sk-serial::before {content: \"\";position: absolute;border-left: 1px solid gray;box-sizing: border-box;top: 0;bottom: 0;left: 50%;z-index: 0;}#sk-container-id-1 div.sk-serial {display: flex;flex-direction: column;align-items: center;background-color: white;padding-right: 0.2em;padding-left: 0.2em;position: relative;}#sk-container-id-1 div.sk-item {position: relative;z-index: 1;}#sk-container-id-1 div.sk-parallel {display: flex;align-items: stretch;justify-content: center;background-color: white;position: relative;}#sk-container-id-1 div.sk-item::before, #sk-container-id-1 div.sk-parallel-item::before {content: \"\";position: absolute;border-left: 1px solid gray;box-sizing: border-box;top: 0;bottom: 0;left: 50%;z-index: -1;}#sk-container-id-1 div.sk-parallel-item {display: flex;flex-direction: column;z-index: 1;position: relative;background-color: white;}#sk-container-id-1 div.sk-parallel-item:first-child::after {align-self: flex-end;width: 50%;}#sk-container-id-1 div.sk-parallel-item:last-child::after {align-self: flex-start;width: 50%;}#sk-container-id-1 div.sk-parallel-item:only-child::after {width: 0;}#sk-container-id-1 div.sk-dashed-wrapped {border: 1px dashed gray;margin: 0 0.4em 0.5em 0.4em;box-sizing: border-box;padding-bottom: 0.4em;background-color: white;}#sk-container-id-1 div.sk-label label {font-family: monospace;font-weight: bold;display: inline-block;line-height: 1.2em;}#sk-container-id-1 div.sk-label-container {text-align: center;}#sk-container-id-1 div.sk-container {/* jupyter's `normalize.less` sets `[hidden] { display: none; }` but bootstrap.min.css set `[hidden] { display: none !important; }` so we also need the `!important` here to be able to override the default hidden behavior on the sphinx rendered scikit-learn.org. See: https://github.com/scikit-learn/scikit-learn/issues/21755 */display: inline-block !important;position: relative;}#sk-container-id-1 div.sk-text-repr-fallback {display: none;}</style><div id=\"sk-container-id-1\" class=\"sk-top-container\"><div class=\"sk-text-repr-fallback\"><pre>LogisticRegression()</pre><b>In a Jupyter environment, please rerun this cell to show the HTML representation or trust the notebook. <br />On GitHub, the HTML representation is unable to render, please try loading this page with nbviewer.org.</b></div><div class=\"sk-container\" hidden><div class=\"sk-item\"><div class=\"sk-estimator sk-toggleable\"><input class=\"sk-toggleable__control sk-hidden--visually\" id=\"sk-estimator-id-1\" type=\"checkbox\" checked><label for=\"sk-estimator-id-1\" class=\"sk-toggleable__label sk-toggleable__label-arrow\">LogisticRegression</label><div class=\"sk-toggleable__content\"><pre>LogisticRegression()</pre></div></div></div></div></div>"
      ],
      "text/plain": [
       "LogisticRegression()"
      ]
     },
     "execution_count": 25,
     "metadata": {},
     "output_type": "execute_result"
    }
   ],
   "source": [
    "model.fit(X_train, Y_train)"
   ]
  },
  {
   "cell_type": "markdown",
   "id": "5d28d5d8",
   "metadata": {
    "papermill": {
     "duration": 0.055181,
     "end_time": "2023-12-26T18:00:43.774105",
     "exception": false,
     "start_time": "2023-12-26T18:00:43.718924",
     "status": "completed"
    },
    "tags": []
   },
   "source": [
    "Evaluation\n",
    "Accuracy score"
   ]
  },
  {
   "cell_type": "code",
   "execution_count": 26,
   "id": "247af602",
   "metadata": {
    "execution": {
     "iopub.execute_input": "2023-12-26T18:00:43.801629Z",
     "iopub.status.busy": "2023-12-26T18:00:43.801304Z",
     "iopub.status.idle": "2023-12-26T18:00:43.809843Z",
     "shell.execute_reply": "2023-12-26T18:00:43.808985Z"
    },
    "papermill": {
     "duration": 0.024285,
     "end_time": "2023-12-26T18:00:43.812062",
     "exception": false,
     "start_time": "2023-12-26T18:00:43.787777",
     "status": "completed"
    },
    "tags": []
   },
   "outputs": [],
   "source": [
    "# accuracy score on the training data\n",
    "X_train_prediction = model.predict(X_train)\n",
    "training_data_accuracy = accuracy_score(X_train_prediction, Y_train)"
   ]
  },
  {
   "cell_type": "code",
   "execution_count": 27,
   "id": "bffb4b41",
   "metadata": {
    "execution": {
     "iopub.execute_input": "2023-12-26T18:00:43.837809Z",
     "iopub.status.busy": "2023-12-26T18:00:43.837524Z",
     "iopub.status.idle": "2023-12-26T18:00:43.842074Z",
     "shell.execute_reply": "2023-12-26T18:00:43.841169Z"
    },
    "papermill": {
     "duration": 0.020165,
     "end_time": "2023-12-26T18:00:43.844626",
     "exception": false,
     "start_time": "2023-12-26T18:00:43.824461",
     "status": "completed"
    },
    "tags": []
   },
   "outputs": [
    {
     "name": "stdout",
     "output_type": "stream",
     "text": [
      "Accuracy score of the training data: 0.9719951923076923\n"
     ]
    }
   ],
   "source": [
    "print('Accuracy score of the training data:', training_data_accuracy)"
   ]
  },
  {
   "cell_type": "code",
   "execution_count": 28,
   "id": "f7d08849",
   "metadata": {
    "execution": {
     "iopub.execute_input": "2023-12-26T18:00:43.869103Z",
     "iopub.status.busy": "2023-12-26T18:00:43.868771Z",
     "iopub.status.idle": "2023-12-26T18:00:43.874940Z",
     "shell.execute_reply": "2023-12-26T18:00:43.874070Z"
    },
    "papermill": {
     "duration": 0.02085,
     "end_time": "2023-12-26T18:00:43.877168",
     "exception": false,
     "start_time": "2023-12-26T18:00:43.856318",
     "status": "completed"
    },
    "tags": []
   },
   "outputs": [],
   "source": [
    "# accuracy score on the test data\n",
    "X_test_prediction = model.predict(X_test)\n",
    "test_data_accuracy = accuracy_score(X_test_prediction, Y_test)"
   ]
  },
  {
   "cell_type": "code",
   "execution_count": 29,
   "id": "c0954763",
   "metadata": {
    "execution": {
     "iopub.execute_input": "2023-12-26T18:00:43.900557Z",
     "iopub.status.busy": "2023-12-26T18:00:43.900292Z",
     "iopub.status.idle": "2023-12-26T18:00:43.904602Z",
     "shell.execute_reply": "2023-12-26T18:00:43.903783Z"
    },
    "papermill": {
     "duration": 0.018165,
     "end_time": "2023-12-26T18:00:43.906664",
     "exception": false,
     "start_time": "2023-12-26T18:00:43.888499",
     "status": "completed"
    },
    "tags": []
   },
   "outputs": [
    {
     "name": "stdout",
     "output_type": "stream",
     "text": [
      "Accuracy score of the test data :  0.9548076923076924\n"
     ]
    }
   ],
   "source": [
    "print('Accuracy score of the test data : ', test_data_accuracy)"
   ]
  },
  {
   "cell_type": "markdown",
   "id": "75dda4f2",
   "metadata": {
    "papermill": {
     "duration": 0.010903,
     "end_time": "2023-12-26T18:00:43.928489",
     "exception": false,
     "start_time": "2023-12-26T18:00:43.917586",
     "status": "completed"
    },
    "tags": []
   },
   "source": [
    "#Making a Predictive system"
   ]
  },
  {
   "cell_type": "code",
   "execution_count": 30,
   "id": "79ac5d50",
   "metadata": {
    "execution": {
     "iopub.execute_input": "2023-12-26T18:00:43.952221Z",
     "iopub.status.busy": "2023-12-26T18:00:43.951691Z",
     "iopub.status.idle": "2023-12-26T18:00:43.957414Z",
     "shell.execute_reply": "2023-12-26T18:00:43.956551Z"
    },
    "papermill": {
     "duration": 0.019752,
     "end_time": "2023-12-26T18:00:43.959495",
     "exception": false,
     "start_time": "2023-12-26T18:00:43.939743",
     "status": "completed"
    },
    "tags": []
   },
   "outputs": [
    {
     "name": "stdout",
     "output_type": "stream",
     "text": [
      "[0]\n",
      "The news is Real\n"
     ]
    }
   ],
   "source": [
    "X_new = X_test[3]\n",
    "\n",
    "prediction = model.predict(X_new)\n",
    "print(prediction)\n",
    "\n",
    "if (prediction[0]==0):\n",
    "  print('The news is Real')\n",
    "else:\n",
    "  print('The news is Fake')"
   ]
  },
  {
   "cell_type": "code",
   "execution_count": 31,
   "id": "22284186",
   "metadata": {
    "execution": {
     "iopub.execute_input": "2023-12-26T18:00:43.984543Z",
     "iopub.status.busy": "2023-12-26T18:00:43.984276Z",
     "iopub.status.idle": "2023-12-26T18:00:43.988671Z",
     "shell.execute_reply": "2023-12-26T18:00:43.987769Z"
    },
    "papermill": {
     "duration": 0.018282,
     "end_time": "2023-12-26T18:00:43.990541",
     "exception": false,
     "start_time": "2023-12-26T18:00:43.972259",
     "status": "completed"
    },
    "tags": []
   },
   "outputs": [
    {
     "name": "stdout",
     "output_type": "stream",
     "text": [
      "0\n"
     ]
    }
   ],
   "source": [
    "print(Y_test[3])"
   ]
  },
  {
   "cell_type": "code",
   "execution_count": null,
   "id": "d7abfec4",
   "metadata": {
    "papermill": {
     "duration": 0.010904,
     "end_time": "2023-12-26T18:00:44.012812",
     "exception": false,
     "start_time": "2023-12-26T18:00:44.001908",
     "status": "completed"
    },
    "tags": []
   },
   "outputs": [],
   "source": []
  }
 ],
 "metadata": {
  "kaggle": {
   "accelerator": "nvidiaTeslaT4",
   "dataSources": [
    {
     "databundleVersionId": 109592,
     "sourceId": 8317,
     "sourceType": "competition"
    }
   ],
   "dockerImageVersionId": 30627,
   "isGpuEnabled": true,
   "isInternetEnabled": true,
   "language": "python",
   "sourceType": "notebook"
  },
  "kernelspec": {
   "display_name": "Python 3",
   "language": "python",
   "name": "python3"
  },
  "language_info": {
   "codemirror_mode": {
    "name": "ipython",
    "version": 3
   },
   "file_extension": ".py",
   "mimetype": "text/x-python",
   "name": "python",
   "nbconvert_exporter": "python",
   "pygments_lexer": "ipython3",
   "version": "3.10.12"
  },
  "papermill": {
   "default_parameters": {},
   "duration": 51.924545,
   "end_time": "2023-12-26T18:00:44.440806",
   "environment_variables": {},
   "exception": null,
   "input_path": "__notebook__.ipynb",
   "output_path": "__notebook__.ipynb",
   "parameters": {},
   "start_time": "2023-12-26T17:59:52.516261",
   "version": "2.4.0"
  }
 },
 "nbformat": 4,
 "nbformat_minor": 5
}
